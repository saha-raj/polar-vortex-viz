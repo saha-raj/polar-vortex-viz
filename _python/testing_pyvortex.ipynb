{
 "cells": [
  {
   "cell_type": "code",
   "execution_count": 4,
   "metadata": {},
   "outputs": [],
   "source": [
    "import xarray as xr\n",
    "import pyvortex as vr\n",
    "\n",
    "# Load your datasets\n",
    "pv_file = \"pv-uwind/potential_vorticity_stream-oper_daily-mean.nc\"\n",
    "uwind_file = \"pv-uwind/u_component_of_wind_0_daily-mean.nc\"\n",
    "\n",
    "# Open datasets\n",
    "pv_ds = xr.open_dataset(pv_file)\n",
    "uwind_ds = xr.open_dataset(uwind_file)"
   ]
  },
  {
   "cell_type": "code",
   "execution_count": 10,
   "metadata": {},
   "outputs": [
    {
     "name": "stdout",
     "output_type": "stream",
     "text": [
      "<xarray.Dataset> Size: 18MB\n",
      "Dimensions:    (time: 31, level: 1, latitude: 101, longitude: 1440)\n",
      "Coordinates:\n",
      "    number     int64 8B ...\n",
      "  * level      (level) float64 8B 30.0\n",
      "  * latitude   (latitude) float64 808B 90.0 89.75 89.5 89.25 ... 65.5 65.25 65.0\n",
      "  * longitude  (longitude) float64 12kB -180.0 -179.8 -179.5 ... 179.5 179.8\n",
      "  * time       (time) datetime64[ns] 248B 2019-01-01 2019-01-02 ... 2019-01-31\n",
      "Data variables:\n",
      "    pv         (time, level, latitude, longitude) float32 18MB ...\n",
      "Attributes:\n",
      "    GRIB_centre:             ecmf\n",
      "    GRIB_centreDescription:  European Centre for Medium-Range Weather Forecasts\n",
      "    GRIB_subCentre:          0\n",
      "    Conventions:             CF-1.7\n",
      "    institution:             European Centre for Medium-Range Weather Forecasts\n",
      "    history:                 2025-01-12T15:34 GRIB to CDM+CF via cfgrib-0.9.1...\n",
      "<xarray.Dataset> Size: 18MB\n",
      "Dimensions:    (time: 31, level: 1, latitude: 101, longitude: 1440)\n",
      "Coordinates:\n",
      "    number     int64 8B ...\n",
      "  * level      (level) float64 8B 30.0\n",
      "  * latitude   (latitude) float64 808B 90.0 89.75 89.5 89.25 ... 65.5 65.25 65.0\n",
      "  * longitude  (longitude) float64 12kB -180.0 -179.8 -179.5 ... 179.5 179.8\n",
      "  * time       (time) datetime64[ns] 248B 2019-01-01 2019-01-02 ... 2019-01-31\n",
      "Data variables:\n",
      "    u          (time, level, latitude, longitude) float32 18MB ...\n",
      "Attributes:\n",
      "    GRIB_centre:             ecmf\n",
      "    GRIB_centreDescription:  European Centre for Medium-Range Weather Forecasts\n",
      "    GRIB_subCentre:          0\n",
      "    Conventions:             CF-1.7\n",
      "    institution:             European Centre for Medium-Range Weather Forecasts\n",
      "    history:                 2025-01-12T15:35 GRIB to CDM+CF via cfgrib-0.9.1...\n"
     ]
    }
   ],
   "source": [
    "print(pv_ds)\n",
    "print(uwind_ds)"
   ]
  },
  {
   "cell_type": "code",
   "execution_count": 23,
   "metadata": {},
   "outputs": [
    {
     "name": "stdout",
     "output_type": "stream",
     "text": [
      "PV Shape: (31, 101, 1440)\n",
      "PV Dimensions: ('time', 'latitude', 'longitude')\n",
      "UWIND Shape: (31, 101, 1440)\n",
      "UWIND Dimensions: ('time', 'latitude', 'longitude')\n"
     ]
    }
   ],
   "source": [
    "print(\"PV Shape:\", pv.shape)\n",
    "print(\"PV Dimensions:\", pv.dims)\n",
    "print(\"UWIND Shape:\", uwind.shape)\n",
    "print(\"UWIND Dimensions:\", uwind.dims)"
   ]
  },
  {
   "cell_type": "code",
   "execution_count": 24,
   "metadata": {},
   "outputs": [],
   "source": [
    "pv = pv.expand_dims(level=[30.0])  # Add a dummy level with value 30.0 hPa\n",
    "uwind = uwind.expand_dims(level=[30.0])  # Same for uwind"
   ]
  },
  {
   "cell_type": "code",
   "execution_count": 25,
   "metadata": {},
   "outputs": [],
   "source": [
    "pol_vortex = vr.PolarVortex(pv=pv, uwind=uwind)"
   ]
  },
  {
   "cell_type": "code",
   "execution_count": 26,
   "metadata": {},
   "outputs": [
    {
     "name": "stderr",
     "output_type": "stream",
     "text": [
      "/Users/raj/Documents/site/polar-vortex/.venv/lib/python3.11/site-packages/pyvortex/pyvortex.py:70: RuntimeWarning: Mean of empty slice\n",
      "  ul[i, j] = np.nanmean(u[i, idx==j])\n"
     ]
    }
   ],
   "source": [
    "eql = pol_vortex.get_edge(min_eql=30)"
   ]
  },
  {
   "cell_type": "code",
   "execution_count": 27,
   "metadata": {},
   "outputs": [
    {
     "name": "stdout",
     "output_type": "stream",
     "text": [
      "Time: ['2019-01-01T00:00:00.000000000' '2019-01-02T00:00:00.000000000'\n",
      " '2019-01-03T00:00:00.000000000' '2019-01-04T00:00:00.000000000'\n",
      " '2019-01-05T00:00:00.000000000' '2019-01-06T00:00:00.000000000'\n",
      " '2019-01-07T00:00:00.000000000' '2019-01-08T00:00:00.000000000'\n",
      " '2019-01-09T00:00:00.000000000' '2019-01-10T00:00:00.000000000'\n",
      " '2019-01-11T00:00:00.000000000' '2019-01-12T00:00:00.000000000'\n",
      " '2019-01-13T00:00:00.000000000' '2019-01-14T00:00:00.000000000'\n",
      " '2019-01-15T00:00:00.000000000' '2019-01-16T00:00:00.000000000'\n",
      " '2019-01-17T00:00:00.000000000' '2019-01-18T00:00:00.000000000'\n",
      " '2019-01-19T00:00:00.000000000' '2019-01-20T00:00:00.000000000'\n",
      " '2019-01-21T00:00:00.000000000' '2019-01-22T00:00:00.000000000'\n",
      " '2019-01-23T00:00:00.000000000' '2019-01-24T00:00:00.000000000'\n",
      " '2019-01-25T00:00:00.000000000' '2019-01-26T00:00:00.000000000'\n",
      " '2019-01-27T00:00:00.000000000' '2019-01-28T00:00:00.000000000'\n",
      " '2019-01-29T00:00:00.000000000' '2019-01-30T00:00:00.000000000'\n",
      " '2019-01-31T00:00:00.000000000']\n",
      "Latitude: [90.   89.75 89.5  89.25 89.   88.75 88.5  88.25 88.   87.75 87.5  87.25\n",
      " 87.   86.75 86.5  86.25 86.   85.75 85.5  85.25 85.   84.75 84.5  84.25\n",
      " 84.   83.75 83.5  83.25 83.   82.75 82.5  82.25 82.   81.75 81.5  81.25\n",
      " 81.   80.75 80.5  80.25 80.   79.75 79.5  79.25 79.   78.75 78.5  78.25\n",
      " 78.   77.75 77.5  77.25 77.   76.75 76.5  76.25 76.   75.75 75.5  75.25\n",
      " 75.   74.75 74.5  74.25 74.   73.75 73.5  73.25 73.   72.75 72.5  72.25\n",
      " 72.   71.75 71.5  71.25 71.   70.75 70.5  70.25 70.   69.75 69.5  69.25\n",
      " 69.   68.75 68.5  68.25 68.   67.75 67.5  67.25 67.   66.75 66.5  66.25\n",
      " 66.   65.75 65.5  65.25 65.  ]\n",
      "Longitude: [-180.   -179.75 -179.5  ...  179.25  179.5   179.75]\n",
      "Level: [30.]\n"
     ]
    }
   ],
   "source": [
    "print(\"Time:\", pol_vortex.time)\n",
    "print(\"Latitude:\", pol_vortex.ylat)\n",
    "print(\"Longitude:\", pol_vortex.xlon)\n",
    "print(\"Level:\", pol_vortex.zlev)  # This should now contain [30.0]"
   ]
  },
  {
   "cell_type": "code",
   "execution_count": 28,
   "metadata": {},
   "outputs": [
    {
     "name": "stdout",
     "output_type": "stream",
     "text": [
      "<pyvortex.pyvortex.PolarVortex object at 0x16c398a10>\n"
     ]
    }
   ],
   "source": [
    "print(pol_vortex)"
   ]
  },
  {
   "cell_type": "code",
   "execution_count": 29,
   "metadata": {},
   "outputs": [
    {
     "name": "stdout",
     "output_type": "stream",
     "text": [
      "<xarray.Dataset> Size: 18MB\n",
      "Dimensions:  (time: 31, level: 1, lat: 101, lon: 1440)\n",
      "Coordinates:\n",
      "  * time     (time) datetime64[ns] 248B 2019-01-01 2019-01-02 ... 2019-01-31\n",
      "  * level    (level) float64 8B 30.0\n",
      "  * lat      (lat) float64 808B 90.0 89.75 89.5 89.25 ... 65.75 65.5 65.25 65.0\n",
      "  * lon      (lon) float64 12kB -180.0 -179.8 -179.5 ... 179.2 179.5 179.8\n",
      "Data variables:\n",
      "    eql      (time, level, lat, lon) float32 18MB 66.91 66.91 ... 66.96 66.89\n"
     ]
    }
   ],
   "source": [
    "eql = pol_vortex.get_eql()\n",
    "print(eql)"
   ]
  },
  {
   "cell_type": "code",
   "execution_count": 30,
   "metadata": {},
   "outputs": [
    {
     "name": "stderr",
     "output_type": "stream",
     "text": [
      "/Users/raj/Documents/site/polar-vortex/.venv/lib/python3.11/site-packages/pyvortex/pyvortex.py:70: RuntimeWarning: Mean of empty slice\n",
      "  ul[i, j] = np.nanmean(u[i, idx==j])\n"
     ]
    },
    {
     "name": "stdout",
     "output_type": "stream",
     "text": [
      "<xarray.Dataset> Size: 18MB\n",
      "Dimensions:  (time: 31, level: 1, lat: 101, lon: 1440)\n",
      "Coordinates:\n",
      "  * time     (time) datetime64[ns] 248B 2019-01-01 2019-01-02 ... 2019-01-31\n",
      "  * level    (level) float64 8B 30.0\n",
      "  * lat      (lat) float64 808B 90.0 89.75 89.5 89.25 ... 65.75 65.5 65.25 65.0\n",
      "  * lon      (lon) float64 12kB -180.0 -179.8 -179.5 ... 179.2 179.5 179.8\n",
      "Data variables:\n",
      "    vedge    (time, level) float64 248B 30.0 30.0 30.0 30.0 ... 30.0 30.0 30.0\n",
      "    eql      (time, level, lat, lon) float32 18MB 66.91 66.91 ... 66.96 66.89\n"
     ]
    }
   ],
   "source": [
    "vortex_edge = pol_vortex.get_edge(min_eql=30)\n",
    "print(vortex_edge)"
   ]
  },
  {
   "cell_type": "code",
   "execution_count": 31,
   "metadata": {},
   "outputs": [
    {
     "name": "stdout",
     "output_type": "stream",
     "text": [
      "<xarray.Dataset> Size: 18MB\n",
      "Dimensions:  (time: 31, level: 1, lat: 101, lon: 1440)\n",
      "Coordinates:\n",
      "  * time     (time) datetime64[ns] 248B 2019-01-01 2019-01-02 ... 2019-01-31\n",
      "  * level    (level) float64 8B 30.0\n",
      "  * lat      (lat) float64 808B 90.0 89.75 89.5 89.25 ... 65.75 65.5 65.25 65.0\n",
      "  * lon      (lon) float64 12kB -180.0 -179.8 -179.5 ... 179.2 179.5 179.8\n",
      "Data variables:\n",
      "    eql      (time, level, lat, lon) float32 18MB 66.91 66.91 ... 66.96 66.89\n",
      "<xarray.Dataset> Size: 18MB\n",
      "Dimensions:  (time: 31, level: 1, lat: 101, lon: 1440)\n",
      "Coordinates:\n",
      "  * time     (time) datetime64[ns] 248B 2019-01-01 2019-01-02 ... 2019-01-31\n",
      "  * level    (level) float64 8B 30.0\n",
      "  * lat      (lat) float64 808B 90.0 89.75 89.5 89.25 ... 65.75 65.5 65.25 65.0\n",
      "  * lon      (lon) float64 12kB -180.0 -179.8 -179.5 ... 179.2 179.5 179.8\n",
      "Data variables:\n",
      "    vedge    (time, level) float64 248B 30.0 30.0 30.0 30.0 ... 30.0 30.0 30.0\n",
      "    eql      (time, level, lat, lon) float32 18MB 66.91 66.91 ... 66.96 66.89\n"
     ]
    }
   ],
   "source": [
    "print(eql)\n",
    "print(vortex_edge)"
   ]
  },
  {
   "cell_type": "code",
   "execution_count": 32,
   "metadata": {},
   "outputs": [],
   "source": [
    "eql.to_netcdf(\"output_equivalent_latitude.nc\")\n",
    "vortex_edge.to_netcdf(\"output_vortex_edge.nc\")"
   ]
  },
  {
   "cell_type": "code",
   "execution_count": null,
   "metadata": {},
   "outputs": [],
   "source": []
  },
  {
   "cell_type": "code",
   "execution_count": null,
   "metadata": {},
   "outputs": [],
   "source": []
  }
 ],
 "metadata": {
  "kernelspec": {
   "display_name": ".venv",
   "language": "python",
   "name": "python3"
  },
  "language_info": {
   "codemirror_mode": {
    "name": "ipython",
    "version": 3
   },
   "file_extension": ".py",
   "mimetype": "text/x-python",
   "name": "python",
   "nbconvert_exporter": "python",
   "pygments_lexer": "ipython3",
   "version": "3.11.9"
  }
 },
 "nbformat": 4,
 "nbformat_minor": 2
}
